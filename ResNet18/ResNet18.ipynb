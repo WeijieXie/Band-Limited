{
 "cells": [
  {
   "cell_type": "markdown",
   "metadata": {},
   "source": [
    "# Implementation of ResNet18"
   ]
  },
  {
   "cell_type": "code",
   "execution_count": 2,
   "metadata": {},
   "outputs": [
    {
     "name": "stdout",
     "output_type": "stream",
     "text": [
      "2.1.2\n"
     ]
    }
   ],
   "source": [
    "import torch\n",
    "from torch import nn\n",
    "from torch.nn import functional as F\n",
    "\n",
    "print(torch.__version__)"
   ]
  },
  {
   "cell_type": "markdown",
   "metadata": {},
   "source": [
    "## device related functions"
   ]
  },
  {
   "cell_type": "code",
   "execution_count": 34,
   "metadata": {},
   "outputs": [
    {
     "name": "stdout",
     "output_type": "stream",
     "text": [
      "gpu with index '2' is not available\n",
      "gpu 0: NVIDIA GeForce GTX 1650\n",
      "current gpu : NVIDIA GeForce GTX 1650\n",
      "cuda:0\n"
     ]
    }
   ],
   "source": [
    "def num_gpus():\n",
    "    \"\"\"Get the number of GPUs.\"\"\"\n",
    "    if torch.cuda.is_available():\n",
    "        return torch.cuda.device_count()\n",
    "    return 0\n",
    "\n",
    "\n",
    "def try_gpu(i=0):\n",
    "    if num_gpus() > i:\n",
    "        return torch.device(f\"cuda:{i}\")\n",
    "    else:\n",
    "        print(f\"gpu with index '{i}' is not available\")\n",
    "        return torch.device(\"cpu\")\n",
    "\n",
    "\n",
    "def try_all_gpus():\n",
    "    \"\"\"\n",
    "    Return all available GPUs, or [cpu(),] if no GPU exists.\n",
    "\n",
    "    Returns:\n",
    "    -------\n",
    "    devices: list\n",
    "        A list of devices.\n",
    "    \"\"\"\n",
    "\n",
    "    return [torch.device(f\"cuda:{i}\") for i in range(num_gpus())]\n",
    "\n",
    "\n",
    "def gpus_info(gpu_list):\n",
    "    for i, gpu in enumerate(gpu_list):\n",
    "        print(f\"\"\"gpu {i}: {torch.cuda.get_device_name(gpu)}\"\"\")\n",
    "\n",
    "\n",
    "def current_gpu_info():\n",
    "    current_device = torch.cuda.current_device()\n",
    "    print(f\"\"\"current gpu : {torch.cuda.get_device_name(current_device)}\"\"\")\n",
    "\n",
    "\n",
    "try_gpu(2)\n",
    "gpu_list = try_all_gpus()\n",
    "gpus_info(gpu_list)\n",
    "\n",
    "torch.cuda.set_device(0)\n",
    "current_gpu_info()\n",
    "\n",
    "tensor_A = torch.tensor([1,2,3]).to(try_gpu(0))\n",
    "device = tensor_A.device\n",
    "print(device)\n"
   ]
  },
  {
   "cell_type": "markdown",
   "metadata": {},
   "source": [
    "## ResNet"
   ]
  },
  {
   "cell_type": "markdown",
   "metadata": {},
   "source": [
    "### the Residual Block"
   ]
  },
  {
   "cell_type": "markdown",
   "metadata": {},
   "source": [
    "![The ResNet-18 architecture.](..\\ResNet18\\images\\materials\\resnet-block.svg)"
   ]
  },
  {
   "cell_type": "code",
   "execution_count": 40,
   "metadata": {},
   "outputs": [],
   "source": [
    "class ResidualBlock(nn.Module):\n",
    "    def __init__(self, num_channels, use_1x1conv=False, strides=1):\n",
    "        super().__init__()\n",
    "        self.convolution_layer_1 = nn.LazyConv2d(\n",
    "            num_channels, kernel_size=3, padding=(1, 1), stride=strides\n",
    "        )\n",
    "        self.convolution_layer_2 = nn.LazyConv2d(num_channels, kernel_size=3, padding=(1, 1))\n",
    "        if use_1x1conv:\n",
    "            self.convolution_layer_3 = nn.LazyConv2d(num_channels, kernel_size=1, stride=strides)\n",
    "        else:\n",
    "            self.convolution_layer_3 = None\n",
    "        self.batch_norm_layer_1 = nn.LazyBatchNorm2d()\n",
    "        self.batch_norm_layer_2 = nn.LazyBatchNorm2d()\n",
    "\n",
    "    def forward(self,X):\n",
    "        Y = F.relu(self.batch_norm_layer_1(self.convolution_layer_1(X)))\n",
    "        Y = self.batch_norm_layer_2(self.convolution_layer_2(Y))\n",
    "        if self.convolution_layer_3:\n",
    "            X = self.convolution_layer_3(X)\n",
    "        Y += X\n",
    "        return F.relu(Y)     "
   ]
  },
  {
   "cell_type": "code",
   "execution_count": 43,
   "metadata": {},
   "outputs": [
    {
     "data": {
      "text/plain": [
       "torch.Size([4, 3, 6, 6])"
      ]
     },
     "execution_count": 43,
     "metadata": {},
     "output_type": "execute_result"
    }
   ],
   "source": [
    "residual_block_1 = ResidualBlock(3) # a residual block with 3 output channels\n",
    "block_input = torch.rand(4,3,6,6) # 4 samples each with 3 channels whose width*height is 6*6\n",
    "residual_block_1(block_input).shape"
   ]
  },
  {
   "cell_type": "code",
   "execution_count": 45,
   "metadata": {},
   "outputs": [
    {
     "name": "stderr",
     "output_type": "stream",
     "text": [
      "f:\\anaconda\\envs\\FYP\\lib\\site-packages\\torch\\nn\\modules\\lazy.py:180: UserWarning: Lazy modules are a new feature under heavy development so changes to the API or functionality can happen at any moment.\n",
      "  warnings.warn('Lazy modules are a new feature under heavy development '\n"
     ]
    },
    {
     "data": {
      "text/plain": [
       "torch.Size([4, 10, 6, 6])"
      ]
     },
     "execution_count": 45,
     "metadata": {},
     "output_type": "execute_result"
    }
   ],
   "source": [
    "# use the 1x1conv to adjust the original data\n",
    "residual_block_2 = ResidualBlock(10, use_1x1conv=True) # a residual block with 10 output channels\n",
    "block_input = torch.rand(4,3,6,6) # 4 samples each with 3 channels whose width*height is 6*6\n",
    "residual_block_2(block_input).shape"
   ]
  },
  {
   "cell_type": "markdown",
   "metadata": {},
   "source": [
    "### the whole model"
   ]
  },
  {
   "cell_type": "markdown",
   "metadata": {},
   "source": [
    "![The ResNet-18 architecture.](../ResNet18\\images\\materials\\resnet18-90.svg)"
   ]
  },
  {
   "cell_type": "code",
   "execution_count": null,
   "metadata": {},
   "outputs": [],
   "source": [
    "class ResNet(nn.Module):\n",
    "    \n"
   ]
  }
 ],
 "metadata": {
  "kernelspec": {
   "display_name": "d2l",
   "language": "python",
   "name": "python3"
  },
  "language_info": {
   "codemirror_mode": {
    "name": "ipython",
    "version": 3
   },
   "file_extension": ".py",
   "mimetype": "text/x-python",
   "name": "python",
   "nbconvert_exporter": "python",
   "pygments_lexer": "ipython3",
   "version": "3.10.13"
  }
 },
 "nbformat": 4,
 "nbformat_minor": 2
}
